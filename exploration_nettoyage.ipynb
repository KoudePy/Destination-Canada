{
 "cells": [
  {
   "cell_type": "markdown",
   "id": "d5a63eda",
   "metadata": {},
   "source": [
    "# 📊 Exploration des données nettoyées - Immigration Canada"
   ]
  },
  {
   "cell_type": "code",
   "execution_count": null,
   "id": "83e3a4c9",
   "metadata": {},
   "outputs": [],
   "source": [
    "import pandas as pd\n",
    "import matplotlib.pyplot as plt\n",
    "import seaborn as sns\n",
    "\n",
    "# Charger les données nettoyées\n",
    "df = pd.read_csv(\"../data/cleaned_data1.csv\")\n",
    "df.head()"
   ]
  },
  {
   "cell_type": "markdown",
   "id": "6cbf30fa",
   "metadata": {},
   "source": [
    "## 📈 Nombre de transitions par année"
   ]
  },
  {
   "cell_type": "code",
   "execution_count": null,
   "id": "4b02ecb7",
   "metadata": {},
   "outputs": [],
   "source": [
    "plt.figure(figsize=(10, 5))\n",
    "sns.countplot(data=df, x=\"Year\", palette=\"viridis\")\n",
    "plt.title(\"Nombre de transitions vers la résidence permanente par année\")\n",
    "plt.xlabel(\"Année\")\n",
    "plt.ylabel(\"Nombre d'entrées\")\n",
    "plt.xticks(rotation=45)\n",
    "plt.tight_layout()\n",
    "plt.show()"
   ]
  },
  {
   "cell_type": "markdown",
   "id": "3f0df833",
   "metadata": {},
   "source": [
    "## 🌎 Top provinces de destination"
   ]
  },
  {
   "cell_type": "code",
   "execution_count": null,
   "id": "4095b4ac",
   "metadata": {},
   "outputs": [],
   "source": [
    "top_provinces = df[\"Province\"].value_counts().nlargest(10)\n",
    "plt.figure(figsize=(10, 5))\n",
    "sns.barplot(x=top_provinces.index, y=top_provinces.values, palette=\"magma\")\n",
    "plt.title(\"Top 10 provinces de destination\")\n",
    "plt.ylabel(\"Nombre d'entrées\")\n",
    "plt.xlabel(\"Province\")\n",
    "plt.xticks(rotation=45)\n",
    "plt.tight_layout()\n",
    "plt.show()"
   ]
  },
  {
   "cell_type": "markdown",
   "id": "94ebe8dc",
   "metadata": {},
   "source": [
    "## 🧭 Catégories principales d'immigration"
   ]
  },
  {
   "cell_type": "code",
   "execution_count": null,
   "id": "4267f55b",
   "metadata": {},
   "outputs": [],
   "source": [
    "plt.figure(figsize=(10, 5))\n",
    "sns.countplot(data=df, y=\"MainCategory\", order=df[\"MainCategory\"].value_counts().index, palette=\"coolwarm\")\n",
    "plt.title(\"Répartition des catégories principales\")\n",
    "plt.xlabel(\"Nombre d'entrées\")\n",
    "plt.tight_layout()\n",
    "plt.show()"
   ]
  },
  {
   "cell_type": "markdown",
   "id": "28fdb216",
   "metadata": {},
   "source": [
    "## 📊 Statistiques descriptives"
   ]
  },
  {
   "cell_type": "code",
   "execution_count": null,
   "id": "edb0909a",
   "metadata": {},
   "outputs": [],
   "source": [
    "df.describe()"
   ]
  }
 ],
 "metadata": {},
 "nbformat": 4,
 "nbformat_minor": 5
}
