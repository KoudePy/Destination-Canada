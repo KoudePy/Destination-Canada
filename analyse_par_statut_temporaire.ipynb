{
 "cells": [
  {
   "cell_type": "markdown",
   "id": "e1fdef3e",
   "metadata": {},
   "source": [
    "# 🎯 Analyse ciblée : Statut temporaire vers résidence permanente"
   ]
  },
  {
   "cell_type": "markdown",
   "id": "ffbbfb10",
   "metadata": {},
   "source": [
    "Ce notebook explore l'influence du **statut temporaire** dans la transition vers la résidence permanente au Canada."
   ]
  },
  {
   "cell_type": "code",
   "execution_count": null,
   "id": "b538b76a",
   "metadata": {},
   "outputs": [],
   "source": [
    "import pandas as pd\n",
    "import matplotlib.pyplot as plt\n",
    "import seaborn as sns\n",
    "\n",
    "# Chargement des données nettoyées\n",
    "df = pd.read_csv(\"../data/cleaned_data1.csv\")\n",
    "df.head()"
   ]
  },
  {
   "cell_type": "markdown",
   "id": "08c0f48e",
   "metadata": {},
   "source": [
    "## 1. Distribution des statuts temporaires"
   ]
  },
  {
   "cell_type": "code",
   "execution_count": null,
   "id": "bdad61a1",
   "metadata": {},
   "outputs": [],
   "source": [
    "plt.figure(figsize=(10, 6))\n",
    "sns.countplot(y=\"GroupCategory\", data=df, order=df[\"GroupCategory\"].value_counts().index, palette=\"viridis\")\n",
    "plt.title(\"Répartition des statuts temporaires à l'origine de la transition\")\n",
    "plt.xlabel(\"Nombre de transitions\")\n",
    "plt.tight_layout()\n",
    "plt.show()"
   ]
  },
  {
   "cell_type": "markdown",
   "id": "0e2b9505",
   "metadata": {},
   "source": [
    "## 2. Évolution temporelle par statut temporaire"
   ]
  },
  {
   "cell_type": "code",
   "execution_count": null,
   "id": "4af35513",
   "metadata": {},
   "outputs": [],
   "source": [
    "plt.figure(figsize=(12, 6))\n",
    "sns.countplot(data=df, x=\"Year\", hue=\"GroupCategory\", palette=\"tab10\")\n",
    "plt.title(\"Évolution des transitions par statut temporaire (par an)\")\n",
    "plt.xlabel(\"Année\")\n",
    "plt.ylabel(\"Nombre de transitions\")\n",
    "plt.legend(title=\"Statut temporaire\", bbox_to_anchor=(1.05, 1), loc='upper left')\n",
    "plt.tight_layout()\n",
    "plt.show()"
   ]
  },
  {
   "cell_type": "markdown",
   "id": "2d912ee3",
   "metadata": {},
   "source": [
    "## 3. Statut temporaire par province"
   ]
  },
  {
   "cell_type": "code",
   "execution_count": null,
   "id": "643158bc",
   "metadata": {},
   "outputs": [],
   "source": [
    "top_provinces = df['Province'].value_counts().nlargest(5).index\n",
    "filtered_df = df[df['Province'].isin(top_provinces)]\n",
    "\n",
    "plt.figure(figsize=(12, 6))\n",
    "sns.countplot(data=filtered_df, x=\"Province\", hue=\"GroupCategory\", palette=\"pastel\")\n",
    "plt.title(\"Répartition des statuts temporaires dans les 5 provinces les plus populaires\")\n",
    "plt.xlabel(\"Province\")\n",
    "plt.ylabel(\"Nombre de transitions\")\n",
    "plt.legend(title=\"Statut temporaire\", bbox_to_anchor=(1.05, 1), loc='upper left')\n",
    "plt.tight_layout()\n",
    "plt.show()"
   ]
  }
 ],
 "metadata": {},
 "nbformat": 4,
 "nbformat_minor": 5
}
