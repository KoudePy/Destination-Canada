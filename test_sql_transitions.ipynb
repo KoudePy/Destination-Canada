{
 "cells": [
  {
   "cell_type": "markdown",
   "id": "261afaea",
   "metadata": {},
   "source": [
    "# 🗃️ Notebook interactif : Requêtes SQL sur la base SQLite"
   ]
  },
  {
   "cell_type": "code",
   "execution_count": null,
   "id": "d7533aef",
   "metadata": {},
   "outputs": [],
   "source": [
    "import sqlite3\n",
    "import pandas as pd\n",
    "\n",
    "# Connexion à la base de données SQLite\n",
    "conn = sqlite3.connect(\"../database.db\")\n"
   ]
  },
  {
   "cell_type": "markdown",
   "id": "5dc9724f",
   "metadata": {},
   "source": [
    "## 1. Total de transitions par année"
   ]
  },
  {
   "cell_type": "code",
   "execution_count": null,
   "id": "675a256d",
   "metadata": {},
   "outputs": [],
   "source": [
    "query = '''\n",
    "SELECT Year, SUM(Total) AS total_transitions\n",
    "FROM transitions\n",
    "GROUP BY Year\n",
    "ORDER BY Year;\n",
    "'''\n",
    "df = pd.read_sql_query(query, conn)\n",
    "df"
   ]
  },
  {
   "cell_type": "markdown",
   "id": "11aa256f",
   "metadata": {},
   "source": [
    "## 2. Nombre de transitions par statut temporaire"
   ]
  },
  {
   "cell_type": "code",
   "execution_count": null,
   "id": "2343e08c",
   "metadata": {},
   "outputs": [],
   "source": [
    "query = '''\n",
    "SELECT GroupCategory, SUM(Total) AS total\n",
    "FROM transitions\n",
    "GROUP BY GroupCategory\n",
    "ORDER BY total DESC;\n",
    "'''\n",
    "pd.read_sql_query(query, conn)"
   ]
  },
  {
   "cell_type": "markdown",
   "id": "122a1f50",
   "metadata": {},
   "source": [
    "## 3. Top 5 provinces de destination"
   ]
  },
  {
   "cell_type": "code",
   "execution_count": null,
   "id": "5aa4fc57",
   "metadata": {},
   "outputs": [],
   "source": [
    "query = '''\n",
    "SELECT Province, SUM(Total) AS total\n",
    "FROM transitions\n",
    "GROUP BY Province\n",
    "ORDER BY total DESC\n",
    "LIMIT 5;\n",
    "'''\n",
    "pd.read_sql_query(query, conn)"
   ]
  },
  {
   "cell_type": "markdown",
   "id": "5295978e",
   "metadata": {},
   "source": [
    "## 4. Répartition des catégories principales par statut temporaire"
   ]
  },
  {
   "cell_type": "code",
   "execution_count": null,
   "id": "49edc542",
   "metadata": {},
   "outputs": [],
   "source": [
    "query = '''\n",
    "SELECT GroupCategory, MainCategory, SUM(Total) AS total\n",
    "FROM transitions\n",
    "GROUP BY GroupCategory, MainCategory\n",
    "ORDER BY GroupCategory, total DESC;\n",
    "'''\n",
    "pd.read_sql_query(query, conn)"
   ]
  },
  {
   "cell_type": "markdown",
   "id": "71051857",
   "metadata": {},
   "source": [
    "## 5. Évolution temporelle du statut 'Worker Program'"
   ]
  },
  {
   "cell_type": "code",
   "execution_count": null,
   "id": "648dacea",
   "metadata": {},
   "outputs": [],
   "source": [
    "query = '''\n",
    "SELECT Year, SUM(Total) AS total\n",
    "FROM transitions\n",
    "WHERE GroupCategory = 'Worker Program'\n",
    "GROUP BY Year\n",
    "ORDER BY Year;\n",
    "'''\n",
    "pd.read_sql_query(query, conn)"
   ]
  },
  {
   "cell_type": "markdown",
   "id": "b38d312d",
   "metadata": {},
   "source": [
    "## ✅ Déconnexion"
   ]
  },
  {
   "cell_type": "code",
   "execution_count": null,
   "id": "9a0d83e7",
   "metadata": {},
   "outputs": [],
   "source": [
    "conn.close()"
   ]
  }
 ],
 "metadata": {},
 "nbformat": 4,
 "nbformat_minor": 5
}
